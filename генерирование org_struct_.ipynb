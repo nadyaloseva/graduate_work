{
 "cells": [
  {
   "cell_type": "code",
   "execution_count": 8,
   "metadata": {},
   "outputs": [],
   "source": [
    "import pandas as pd\n",
    "import random\n",
    "from sqlalchemy import create_engine"
   ]
  },
  {
   "cell_type": "code",
   "execution_count": 2,
   "metadata": {},
   "outputs": [],
   "source": [
    "example = pd.read_csv('C:/Users/examp/Desktop/пример.csv',sep = ';')"
   ]
  },
  {
   "cell_type": "code",
   "execution_count": 13,
   "metadata": {},
   "outputs": [],
   "source": [
    "podrazdelenie = example['PODRAZDELENIE']\n",
    "napravlenie = example['NAPRAVLENIE']\n",
    "sh_d = example['SHTATNAJA_DOLZHNOST_NAZV']\n",
    "podr_tp3 = example['TIPOVOE_PODR_3_UR_NAZV']\n",
    "podr_tp4 = example['TIPOVOE_PODR_4_UR_NAZV']\n",
    "te = ['Волго-Вятский банк','Дальневосточный банк','Московский банк','Уральский банк','Центральный аппарат','Сибирский банк', 'Московский банк']\n",
    "typ_detail = ['Sbergile','Не присвоено']\n",
    "te_type = ['ПЦП', 'Территориальный банк']\n"
   ]
  },
  {
   "cell_type": "code",
   "execution_count": 4,
   "metadata": {},
   "outputs": [],
   "source": [
    "hostname = 'localhost'\n",
    "username = 'postgres'\n",
    "password = '2909'\n",
    "database = 'postgres'  "
   ]
  },
  {
   "cell_type": "code",
   "execution_count": 5,
   "metadata": {},
   "outputs": [],
   "source": [
    "engine = create_engine(f'postgresql://{username}:{password}@{hostname}/{database}')"
   ]
  },
  {
   "cell_type": "code",
   "execution_count": 6,
   "metadata": {},
   "outputs": [],
   "source": [
    "sql_query = \"SELECT report_date, sh_d, oe FROM raw_chisl group by report_date, sh_d, oe\"\n",
    "df = pd.read_sql(sql_query, engine)"
   ]
  },
  {
   "cell_type": "code",
   "execution_count": 15,
   "metadata": {},
   "outputs": [],
   "source": [
    "df['sh_d_name'] = [random.choice(sh_d) for _ in range(len(df))]\n",
    "df['type_podr'] = [random.choice(podr_tp3) for _ in range(len(df))]\n",
    "df['podr_name'] = [random.choice(podr_tp4) for _ in range(len(df))]\n",
    "df['podr_name'] = [random.choice(podr_tp4) for _ in range(len(df))]\n",
    "df['typ_detail'] = [random.choice(typ_detail) for _ in range(len(df))]\n",
    "df['type_product'] = [random.choice(napravlenie) for _ in range(len(df))]\n",
    "df['oe_name'] = [random.choice(podrazdelenie) for _ in range(len(df))]\n",
    "df['te'] = [random.choice(te) for _ in range(len(df))]\n",
    "df['type_te'] = [random.choice(te_type) for _ in range(len(df))]"
   ]
  },
  {
   "cell_type": "code",
   "execution_count": 18,
   "metadata": {},
   "outputs": [],
   "source": [
    "df = df[['report_date', 'sh_d', 'sh_d_name', 'oe', 'oe_name', 'te', 'type_te', 'type_podr', 'podr_name', 'typ_detail', 'type_product']]"
   ]
  },
  {
   "cell_type": "code",
   "execution_count": 20,
   "metadata": {},
   "outputs": [],
   "source": [
    "for i in range(len(df.count())):\n",
    "    if df['te'].iloc[i] == 'Центральный аппарат':\n",
    "        df['type_te']='ЦА'"
   ]
  },
  {
   "cell_type": "code",
   "execution_count": 21,
   "metadata": {},
   "outputs": [
    {
     "data": {
      "text/plain": [
       "730"
      ]
     },
     "execution_count": 21,
     "metadata": {},
     "output_type": "execute_result"
    }
   ],
   "source": [
    "table_name = 'org_struct'\n",
    "df.to_sql(table_name, engine, if_exists='append', index=False)"
   ]
  }
 ],
 "metadata": {
  "kernelspec": {
   "display_name": "Python 3",
   "language": "python",
   "name": "python3"
  },
  "language_info": {
   "codemirror_mode": {
    "name": "ipython",
    "version": 3
   },
   "file_extension": ".py",
   "mimetype": "text/x-python",
   "name": "python",
   "nbconvert_exporter": "python",
   "pygments_lexer": "ipython3",
   "version": "3.11.8"
  }
 },
 "nbformat": 4,
 "nbformat_minor": 2
}
