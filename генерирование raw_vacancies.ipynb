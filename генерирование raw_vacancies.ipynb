{
 "cells": [
  {
   "cell_type": "code",
   "execution_count": 20,
   "metadata": {},
   "outputs": [],
   "source": [
    "import pandas as pd\n",
    "import random\n",
    "import numpy as np\n",
    "from sqlalchemy import create_engine\n",
    "import psycopg2\n",
    "from psycopg2 import sql"
   ]
  },
  {
   "cell_type": "code",
   "execution_count": 2,
   "metadata": {},
   "outputs": [],
   "source": [
    "hostname = 'localhost'\n",
    "username = 'postgres'\n",
    "password = '2909'\n",
    "database = 'postgres'  \n",
    "\n",
    "engine = create_engine(f'postgresql://{username}:{password}@{hostname}/{database}')"
   ]
  },
  {
   "cell_type": "code",
   "execution_count": 3,
   "metadata": {},
   "outputs": [],
   "source": [
    "sql_query = \"SELECT distinct report_date, sh_d, tn, vacancies FROM raw_chisl\"\n",
    "df = pd.read_sql(sql_query, engine)"
   ]
  },
  {
   "cell_type": "code",
   "execution_count": 4,
   "metadata": {},
   "outputs": [],
   "source": [
    "df = df[df['tn'] == '0']"
   ]
  },
  {
   "cell_type": "code",
   "execution_count": 5,
   "metadata": {},
   "outputs": [
    {
     "data": {
      "text/html": [
       "<div>\n",
       "<style scoped>\n",
       "    .dataframe tbody tr th:only-of-type {\n",
       "        vertical-align: middle;\n",
       "    }\n",
       "\n",
       "    .dataframe tbody tr th {\n",
       "        vertical-align: top;\n",
       "    }\n",
       "\n",
       "    .dataframe thead th {\n",
       "        text-align: right;\n",
       "    }\n",
       "</style>\n",
       "<table border=\"1\" class=\"dataframe\">\n",
       "  <thead>\n",
       "    <tr style=\"text-align: right;\">\n",
       "      <th></th>\n",
       "      <th>report_date</th>\n",
       "      <th>sh_d</th>\n",
       "      <th>tn</th>\n",
       "      <th>vacancies</th>\n",
       "    </tr>\n",
       "  </thead>\n",
       "  <tbody>\n",
       "    <tr>\n",
       "      <th>0</th>\n",
       "      <td>2022-01-01</td>\n",
       "      <td>30001</td>\n",
       "      <td>0</td>\n",
       "      <td>1.0</td>\n",
       "    </tr>\n",
       "    <tr>\n",
       "      <th>14</th>\n",
       "      <td>2022-01-01</td>\n",
       "      <td>30011</td>\n",
       "      <td>0</td>\n",
       "      <td>1.0</td>\n",
       "    </tr>\n",
       "    <tr>\n",
       "      <th>36</th>\n",
       "      <td>2022-01-01</td>\n",
       "      <td>30028</td>\n",
       "      <td>0</td>\n",
       "      <td>0.5</td>\n",
       "    </tr>\n",
       "    <tr>\n",
       "      <th>37</th>\n",
       "      <td>2022-01-01</td>\n",
       "      <td>30029</td>\n",
       "      <td>0</td>\n",
       "      <td>1.0</td>\n",
       "    </tr>\n",
       "    <tr>\n",
       "      <th>38</th>\n",
       "      <td>2022-01-01</td>\n",
       "      <td>30030</td>\n",
       "      <td>0</td>\n",
       "      <td>1.0</td>\n",
       "    </tr>\n",
       "    <tr>\n",
       "      <th>...</th>\n",
       "      <td>...</td>\n",
       "      <td>...</td>\n",
       "      <td>...</td>\n",
       "      <td>...</td>\n",
       "    </tr>\n",
       "    <tr>\n",
       "      <th>3600999</th>\n",
       "      <td>2022-12-31</td>\n",
       "      <td>39086</td>\n",
       "      <td>0</td>\n",
       "      <td>1.0</td>\n",
       "    </tr>\n",
       "    <tr>\n",
       "      <th>3601000</th>\n",
       "      <td>2022-12-31</td>\n",
       "      <td>39087</td>\n",
       "      <td>0</td>\n",
       "      <td>1.0</td>\n",
       "    </tr>\n",
       "    <tr>\n",
       "      <th>3601008</th>\n",
       "      <td>2022-12-31</td>\n",
       "      <td>39095</td>\n",
       "      <td>0</td>\n",
       "      <td>1.0</td>\n",
       "    </tr>\n",
       "    <tr>\n",
       "      <th>3601010</th>\n",
       "      <td>2022-12-31</td>\n",
       "      <td>39097</td>\n",
       "      <td>0</td>\n",
       "      <td>1.0</td>\n",
       "    </tr>\n",
       "    <tr>\n",
       "      <th>3601011</th>\n",
       "      <td>2022-12-31</td>\n",
       "      <td>39098</td>\n",
       "      <td>0</td>\n",
       "      <td>1.0</td>\n",
       "    </tr>\n",
       "  </tbody>\n",
       "</table>\n",
       "<p>843835 rows × 4 columns</p>\n",
       "</div>"
      ],
      "text/plain": [
       "        report_date   sh_d tn  vacancies\n",
       "0        2022-01-01  30001  0        1.0\n",
       "14       2022-01-01  30011  0        1.0\n",
       "36       2022-01-01  30028  0        0.5\n",
       "37       2022-01-01  30029  0        1.0\n",
       "38       2022-01-01  30030  0        1.0\n",
       "...             ...    ... ..        ...\n",
       "3600999  2022-12-31  39086  0        1.0\n",
       "3601000  2022-12-31  39087  0        1.0\n",
       "3601008  2022-12-31  39095  0        1.0\n",
       "3601010  2022-12-31  39097  0        1.0\n",
       "3601011  2022-12-31  39098  0        1.0\n",
       "\n",
       "[843835 rows x 4 columns]"
      ]
     },
     "execution_count": 5,
     "metadata": {},
     "output_type": "execute_result"
    }
   ],
   "source": [
    "df"
   ]
  },
  {
   "cell_type": "code",
   "execution_count": 6,
   "metadata": {},
   "outputs": [],
   "source": [
    "df['vac_clear'] = random.randint(0, 1)\n",
    "df['vac_decr'] = random.randint(0, 1)\n",
    "df['vac_time'] = random.randint(0, 1)"
   ]
  },
  {
   "cell_type": "code",
   "execution_count": 7,
   "metadata": {},
   "outputs": [],
   "source": [
    "def fill_random(row):\n",
    "    # Список столбцов для выбора\n",
    "    columns = ['vac_clear', 'vac_decr', 'vac_time']\n",
    "    \n",
    "    # Проверка, сколько столбцов уже заполнено значением 1\n",
    "    count_ones = sum(row[column] for column in columns)\n",
    "    \n",
    "    # Если более одного столбца имеет значение 1, выбираем один случайный столбец\n",
    "    if count_ones > 1:\n",
    "        # Выбираем случайный столбец, в котором значение равно 1\n",
    "        random_column = np.random.choice([column for column in columns if row[column] == 1])\n",
    "        # Устанавливаем значение 0 для всех столбцов, кроме выбранного\n",
    "        for column in columns:\n",
    "            if column != random_column:\n",
    "                row[column] = 0\n",
    "    else:\n",
    "        # Если меньше или равно одного столбца имеет значение 1, выбираем случайный столбец для заполнения 1\n",
    "        random_column = np.random.choice(columns)\n",
    "        row[random_column] = 1\n",
    "\n",
    "    return row"
   ]
  },
  {
   "cell_type": "code",
   "execution_count": 8,
   "metadata": {},
   "outputs": [],
   "source": [
    "df = df.apply(fill_random, axis=1)"
   ]
  },
  {
   "cell_type": "code",
   "execution_count": 9,
   "metadata": {},
   "outputs": [],
   "source": [
    "df['vac_clear'] = df['vac_clear'] * df['vacancies']\n",
    "df['vac_decr'] = df['vac_decr'] * df['vacancies']\n",
    "df['vac_time'] = df['vac_time'] * df['vacancies']"
   ]
  },
  {
   "cell_type": "code",
   "execution_count": 11,
   "metadata": {},
   "outputs": [],
   "source": [
    "df = df[['report_date','sh_d','tn','vac_clear','vac_decr','vac_time']]"
   ]
  },
  {
   "cell_type": "code",
   "execution_count": 15,
   "metadata": {},
   "outputs": [
    {
     "name": "stderr",
     "output_type": "stream",
     "text": [
      "C:\\Users\\examp\\AppData\\Local\\Temp\\ipykernel_16756\\36792792.py:3: SettingWithCopyWarning: \n",
      "A value is trying to be set on a copy of a slice from a DataFrame\n",
      "\n",
      "See the caveats in the documentation: https://pandas.pydata.org/pandas-docs/stable/user_guide/indexing.html#returning-a-view-versus-a-copy\n",
      "  df['vac_decr'].iloc[i]=0\n",
      "C:\\Users\\examp\\AppData\\Local\\Temp\\ipykernel_16756\\36792792.py:3: SettingWithCopyWarning: \n",
      "A value is trying to be set on a copy of a slice from a DataFrame\n",
      "\n",
      "See the caveats in the documentation: https://pandas.pydata.org/pandas-docs/stable/user_guide/indexing.html#returning-a-view-versus-a-copy\n",
      "  df['vac_decr'].iloc[i]=0\n",
      "C:\\Users\\examp\\AppData\\Local\\Temp\\ipykernel_16756\\36792792.py:3: SettingWithCopyWarning: \n",
      "A value is trying to be set on a copy of a slice from a DataFrame\n",
      "\n",
      "See the caveats in the documentation: https://pandas.pydata.org/pandas-docs/stable/user_guide/indexing.html#returning-a-view-versus-a-copy\n",
      "  df['vac_decr'].iloc[i]=0\n"
     ]
    }
   ],
   "source": [
    "for i in range(len(df.count())):\n",
    "    if df['vac_clear'].iloc[i]>0 and df['vac_decr'].iloc[i]>0:\n",
    "        df['vac_decr'].iloc[i]=0"
   ]
  },
  {
   "cell_type": "code",
   "execution_count": 16,
   "metadata": {},
   "outputs": [],
   "source": [
    "for i in range(len(df.count())):\n",
    "    if df['vac_clear'].iloc[i]>0 and df['vac_time'].iloc[i]>0:\n",
    "        df['vac_clear'].iloc[i]=0"
   ]
  },
  {
   "cell_type": "code",
   "execution_count": 17,
   "metadata": {},
   "outputs": [
    {
     "name": "stderr",
     "output_type": "stream",
     "text": [
      "C:\\Users\\examp\\AppData\\Local\\Temp\\ipykernel_16756\\227978033.py:3: FutureWarning: ChainedAssignmentError: behaviour will change in pandas 3.0!\n",
      "You are setting values through chained assignment. Currently this works in certain cases, but when using Copy-on-Write (which will become the default behaviour in pandas 3.0) this will never work to update the original DataFrame or Series, because the intermediate object on which we are setting values will behave as a copy.\n",
      "A typical example is when you are setting values in a column of a DataFrame, like:\n",
      "\n",
      "df[\"col\"][row_indexer] = value\n",
      "\n",
      "Use `df.loc[row_indexer, \"col\"] = values` instead, to perform the assignment in a single step and ensure this keeps updating the original `df`.\n",
      "\n",
      "See the caveats in the documentation: https://pandas.pydata.org/pandas-docs/stable/user_guide/indexing.html#returning-a-view-versus-a-copy\n",
      "\n",
      "  df['vac_time'].iloc[i]=0\n",
      "C:\\Users\\examp\\AppData\\Local\\Temp\\ipykernel_16756\\227978033.py:3: SettingWithCopyWarning: \n",
      "A value is trying to be set on a copy of a slice from a DataFrame\n",
      "\n",
      "See the caveats in the documentation: https://pandas.pydata.org/pandas-docs/stable/user_guide/indexing.html#returning-a-view-versus-a-copy\n",
      "  df['vac_time'].iloc[i]=0\n"
     ]
    }
   ],
   "source": [
    "for i in range(len(df.count())):\n",
    "    if df['vac_decr'].iloc[i]>0 and df['vac_time'].iloc[i]>0:\n",
    "        df['vac_time'].iloc[i]=0"
   ]
  },
  {
   "cell_type": "code",
   "execution_count": 22,
   "metadata": {},
   "outputs": [],
   "source": [
    "\n",
    "# SQL-запрос для создания таблицы\n",
    "create_table_query = '''\n",
    "CREATE TABLE raw_vacancies (\n",
    "    report_date DATE,\n",
    "    sh_d VARCHAR(5),\n",
    "    tn VARCHAR(5),\n",
    "    vac_clear NUMERIC,\n",
    "    vac_decr NUMERIC,\n",
    "    vac_time NUMERIC\n",
    ");\n",
    "'''\n",
    "\n",
    "# Установка соединения с базой данных\n",
    "connection = psycopg2.connect(host=hostname, user=username, password=password, dbname=database)\n",
    "cursor = connection.cursor()\n",
    "\n",
    "# Выполнение SQL-запроса\n",
    "cursor.execute(create_table_query)\n",
    "\n",
    "# Подтверждение изменений и закрытие соединения\n",
    "connection.commit()"
   ]
  },
  {
   "cell_type": "code",
   "execution_count": 23,
   "metadata": {},
   "outputs": [
    {
     "data": {
      "text/plain": [
       "835"
      ]
     },
     "execution_count": 23,
     "metadata": {},
     "output_type": "execute_result"
    }
   ],
   "source": [
    "# Создание подключения к базе данных\n",
    "table_name = 'raw_vacancies'\n",
    "df.to_sql(table_name, engine, if_exists='append', index=False)"
   ]
  }
 ],
 "metadata": {
  "kernelspec": {
   "display_name": "Python 3",
   "language": "python",
   "name": "python3"
  },
  "language_info": {
   "codemirror_mode": {
    "name": "ipython",
    "version": 3
   },
   "file_extension": ".py",
   "mimetype": "text/x-python",
   "name": "python",
   "nbconvert_exporter": "python",
   "pygments_lexer": "ipython3",
   "version": "3.11.8"
  }
 },
 "nbformat": 4,
 "nbformat_minor": 2
}
